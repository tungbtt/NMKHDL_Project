{
 "cells": [
  {
   "cell_type": "markdown",
   "metadata": {},
   "source": [
    "# Đồ án cuối kì - Nhập môn khoa học dữ liệu\n",
    "### Nhóm 16\n"
   ]
  },
  {
   "cell_type": "markdown",
   "metadata": {},
   "source": [
    "## 1. Thu thập dữ liệu"
   ]
  },
  {
   "cell_type": "markdown",
   "metadata": {},
   "source": [
    "Khai báo thư viện"
   ]
  },
  {
   "cell_type": "code",
   "execution_count": 1,
   "metadata": {},
   "outputs": [],
   "source": [
    "import sys\n",
    "sys.executable\n",
    "\n",
    "#import pycountry_convert as pc\n",
    "import pandas as pd\n",
    "import matplotlib.pyplot as plt\n",
    "import numpy as np\n",
    "import seaborn as sns\n",
    "sns.set_theme()\n",
    "\n",
    "# remove warnings\n",
    "import warnings\n",
    "warnings.simplefilter('ignore')"
   ]
  },
  {
   "cell_type": "markdown",
   "metadata": {},
   "source": [
    "## 2. Tiền xử lý và khám phá dữ liệu"
   ]
  },
  {
   "cell_type": "markdown",
   "metadata": {},
   "source": [
    "### Đọc dữ liệu"
   ]
  },
  {
   "cell_type": "code",
   "execution_count": 2,
   "metadata": {},
   "outputs": [
    {
     "data": {
      "text/html": [
       "<div>\n",
       "<style scoped>\n",
       "    .dataframe tbody tr th:only-of-type {\n",
       "        vertical-align: middle;\n",
       "    }\n",
       "\n",
       "    .dataframe tbody tr th {\n",
       "        vertical-align: top;\n",
       "    }\n",
       "\n",
       "    .dataframe thead th {\n",
       "        text-align: right;\n",
       "    }\n",
       "</style>\n",
       "<table border=\"1\" class=\"dataframe\">\n",
       "  <thead>\n",
       "    <tr style=\"text-align: right;\">\n",
       "      <th></th>\n",
       "      <th>Cause of death</th>\n",
       "      <th>Age</th>\n",
       "      <th>Year</th>\n",
       "      <th>Country</th>\n",
       "      <th>Number of deaths</th>\n",
       "    </tr>\n",
       "  </thead>\n",
       "  <tbody>\n",
       "    <tr>\n",
       "      <th>0</th>\n",
       "      <td>HIV/AIDS</td>\n",
       "      <td>0</td>\n",
       "      <td>2020</td>\n",
       "      <td>Albania</td>\n",
       "      <td>NaN</td>\n",
       "    </tr>\n",
       "    <tr>\n",
       "      <th>1</th>\n",
       "      <td>HIV/AIDS</td>\n",
       "      <td>0</td>\n",
       "      <td>2020</td>\n",
       "      <td>Antigua and Barbuda</td>\n",
       "      <td>NaN</td>\n",
       "    </tr>\n",
       "    <tr>\n",
       "      <th>2</th>\n",
       "      <td>HIV/AIDS</td>\n",
       "      <td>0</td>\n",
       "      <td>2020</td>\n",
       "      <td>Argentina</td>\n",
       "      <td>NaN</td>\n",
       "    </tr>\n",
       "    <tr>\n",
       "      <th>3</th>\n",
       "      <td>HIV/AIDS</td>\n",
       "      <td>0</td>\n",
       "      <td>2020</td>\n",
       "      <td>Armenia</td>\n",
       "      <td>NaN</td>\n",
       "    </tr>\n",
       "    <tr>\n",
       "      <th>4</th>\n",
       "      <td>HIV/AIDS</td>\n",
       "      <td>0</td>\n",
       "      <td>2020</td>\n",
       "      <td>Australia</td>\n",
       "      <td>0</td>\n",
       "    </tr>\n",
       "  </tbody>\n",
       "</table>\n",
       "</div>"
      ],
      "text/plain": [
       "  Cause of death Age  Year              Country Number of deaths\n",
       "0       HIV/AIDS   0  2020              Albania              NaN\n",
       "1       HIV/AIDS   0  2020  Antigua and Barbuda              NaN\n",
       "2       HIV/AIDS   0  2020            Argentina              NaN\n",
       "3       HIV/AIDS   0  2020              Armenia              NaN\n",
       "4       HIV/AIDS   0  2020            Australia                0"
      ]
     },
     "metadata": {},
     "output_type": "display_data"
    },
    {
     "name": "stdout",
     "output_type": "stream",
     "text": [
      "(262752, 5)\n"
     ]
    }
   ],
   "source": [
    "df = pd.read_csv('data.csv')\n",
    "display(df.head())\n",
    "print(df.shape)"
   ]
  },
  {
   "cell_type": "markdown",
   "metadata": {},
   "source": [
    "### Mỗi dòng có ý nghĩa gì? Có vấn đề các dòng có ý nghĩa khác nhau không?"
   ]
  },
  {
   "cell_type": "markdown",
   "metadata": {},
   "source": [
    "Mỗi dòng cho biết với mỗi nguyên nhân, nhóm tuổi, năm và quốc gia thì có bao nhiêu người chết. Không có vấn đề các dòng có ý nghĩa khác nhau"
   ]
  },
  {
   "cell_type": "markdown",
   "metadata": {},
   "source": [
    "### Dữ liệu có các dòng bị lặp không?"
   ]
  },
  {
   "cell_type": "markdown",
   "metadata": {},
   "source": [
    "Ta sẽ kiểm tra vụ này và lưu kết quả vào biến `have_duplicated_rows`. Biến này sẽ có giá trị True nếu dữ liệu có các dòng bị lặp và có giá trị False nếu ngược."
   ]
  },
  {
   "cell_type": "code",
   "execution_count": 3,
   "metadata": {},
   "outputs": [],
   "source": [
    "have_duplicated_rows = df.duplicated().sum()"
   ]
  },
  {
   "cell_type": "code",
   "execution_count": 4,
   "metadata": {},
   "outputs": [],
   "source": [
    "# TEST\n",
    "assert have_duplicated_rows == False"
   ]
  },
  {
   "cell_type": "markdown",
   "metadata": {},
   "source": [
    "Kết quả kiểm tra cho thấy không có dòng nào là bị trùng lắp dữ liệu cả."
   ]
  },
  {
   "cell_type": "markdown",
   "metadata": {},
   "source": [
    "### Mỗi cột có ý nghĩa gì?"
   ]
  },
  {
   "cell_type": "markdown",
   "metadata": {},
   "source": [
    "Dưới đây là phần mô tả thông tin về các cột trong file \"data.csv\" mà nhóm đã lấy về được:\n",
    "- **Cause of death**: Tên của nguyên nhân gây tử vong.\n",
    "- **Age**: Nhóm tuổi tử vong.\n",
    "- **Year**: Năm tử vong.\n",
    "- **Country**: Quốc gia ghi nhận ca tử vong đó.\n",
    "- **Number of deaths**: Số lượng tử vong."
   ]
  },
  {
   "cell_type": "code",
   "execution_count": 52,
   "metadata": {
    "scrolled": true
   },
   "outputs": [
    {
     "data": {
      "text/plain": [
       "count     207240\n",
       "unique      3900\n",
       "top            0\n",
       "freq       95353\n",
       "Name: Number of deaths, dtype: object"
      ]
     },
     "execution_count": 52,
     "metadata": {},
     "output_type": "execute_result"
    }
   ],
   "source": [
    "df['Number of deaths'].describe()"
   ]
  },
  {
   "cell_type": "markdown",
   "metadata": {},
   "source": [
    "### Mỗi cột hiện đang có kiểu dữ liệu gì? Có cột nào có kiểu dữ liệu chưa phù hợp để có thể xử lý tiếp không?"
   ]
  },
  {
   "cell_type": "markdown",
   "metadata": {},
   "source": [
    "Ta lấy `dtype` (kiểu dữ liệu của mỗi phần tử) của mỗi cột trong dữ liệu và lưu kết quả vào series `col_dtypes`; series này có index là tên cột. "
   ]
  },
  {
   "cell_type": "code",
   "execution_count": 5,
   "metadata": {},
   "outputs": [
    {
     "data": {
      "text/plain": [
       "Cause of death      object\n",
       "Age                 object\n",
       "Year                 int64\n",
       "Country             object\n",
       "Number of deaths    object\n",
       "dtype: object"
      ]
     },
     "execution_count": 5,
     "metadata": {},
     "output_type": "execute_result"
    }
   ],
   "source": [
    "col_dtypes = df.dtypes\n",
    "col_dtypes"
   ]
  },
  {
   "cell_type": "markdown",
   "metadata": {},
   "source": [
    "Ta thấy cột \"Cause of death\" và \"Country\" có kiểu `object` là hợp lý rồi, cột \"Age\" có kiểu `object` thì cũng chấp nhận được. Nhưng 2 cột \"Year\" và \"Number of deaths\" có kiểu dữ liệu chưa phù hợp; \"Year\" phải có kiểu là `datatime` còn \"Number of deaths\" phải có kiểu là `int`"
   ]
  },
  {
   "cell_type": "markdown",
   "metadata": {},
   "source": [
    "**Chuyển dtype của cột \"Year\" sang `datetime`**"
   ]
  },
  {
   "cell_type": "markdown",
   "metadata": {},
   "source": [
    "Cột \"Year\" đang có dtype là `int64`, ta sẽ thực hiện bước tiền xử lý để chuyển sang dạng `datetime`."
   ]
  },
  {
   "cell_type": "code",
   "execution_count": 6,
   "metadata": {},
   "outputs": [],
   "source": [
    "df['Year'] = pd.to_datetime(df['Year'], format='%Y')"
   ]
  },
  {
   "cell_type": "code",
   "execution_count": 7,
   "metadata": {},
   "outputs": [],
   "source": [
    "# TEST\n",
    "assert df.dtypes['Year'] == np.dtype('datetime64[ns]')"
   ]
  },
  {
   "cell_type": "markdown",
   "metadata": {},
   "source": [
    "**Chuyển dtype của cột \"Number of deaths\" sang `float`**"
   ]
  },
  {
   "cell_type": "markdown",
   "metadata": {},
   "source": [
    "Tại sao không phải kiểu `int` mà lại là `float` ?\n",
    "\n",
    "Ta chuyển về kiểu `float` chỉ là tạm thời, vì trong cột \"Number of deaths\" có giá trị NAN nên ta không thể chuyển về kiểu `int` được. Ta sẽ sẽ chuyển về `int` ở phía dưới sau khi đã xóa NAN"
   ]
  },
  {
   "cell_type": "markdown",
   "metadata": {},
   "source": [
    "Cột \"Number of deaths\" đang có dtype là `object`. Trong Pandas, kiểu dữ liệu `object` thường ám chỉ chuỗi, nhưng thật ra kiểu dữ liệu `object` có thể chứa một đối tượng bất kỳ trong Python (vì thật ra ở bên dưới kiểu dữ liệu `object` chứa địa chỉ). Nếu một cột trong dataframe có `dtype` là `object` thì có thể các phần tử trong cột này sẽ có kiểu dữ liệu khác nhau."
   ]
  },
  {
   "cell_type": "markdown",
   "metadata": {},
   "source": [
    "Ta xem chi tiết kiểu dữ liệu cột `Number of deaths`"
   ]
  },
  {
   "cell_type": "code",
   "execution_count": 8,
   "metadata": {},
   "outputs": [],
   "source": [
    "def open_object_dtype(s):\n",
    "    dtypes = set()\n",
    "\n",
    "    dtypes = set(s.apply(type))\n",
    "    \n",
    "    return dtypes"
   ]
  },
  {
   "cell_type": "code",
   "execution_count": 9,
   "metadata": {},
   "outputs": [
    {
     "data": {
      "text/plain": [
       "{float, str}"
      ]
     },
     "execution_count": 9,
     "metadata": {},
     "output_type": "execute_result"
    }
   ],
   "source": [
    "open_object_dtype(df['Number of deaths'])"
   ]
  },
  {
   "cell_type": "markdown",
   "metadata": {},
   "source": [
    "Ta tiến hành xóa ' ' trong các giá trị của cột \"Number of deaths\" và đổi kiểu dữ liệu thành `float`."
   ]
  },
  {
   "cell_type": "code",
   "execution_count": 10,
   "metadata": {},
   "outputs": [],
   "source": [
    "# Xóa khoảng trắng giữa các giá trị cột Number of deaths, ví dụ 1 084 -> 1084\n",
    "\n",
    "df['Number of deaths'] = df['Number of deaths'].str.replace(' ', '').astype(float)"
   ]
  },
  {
   "cell_type": "markdown",
   "metadata": {},
   "source": [
    "Ta kiểu tra lại kiểu dữ liệu của các cột sau khi chuyển đổi"
   ]
  },
  {
   "cell_type": "code",
   "execution_count": 11,
   "metadata": {},
   "outputs": [
    {
     "data": {
      "text/plain": [
       "Cause of death              object\n",
       "Age                         object\n",
       "Year                datetime64[ns]\n",
       "Country                     object\n",
       "Number of deaths           float64\n",
       "dtype: object"
      ]
     },
     "execution_count": 11,
     "metadata": {},
     "output_type": "execute_result"
    }
   ],
   "source": [
    "col_dtypes = df.dtypes\n",
    "col_dtypes"
   ]
  },
  {
   "cell_type": "markdown",
   "metadata": {},
   "source": [
    "### Với mỗi cột có kiểu dữ liệu dạng số (numerical), các giá trị được phân bố như thế nào?"
   ]
  },
  {
   "cell_type": "markdown",
   "metadata": {},
   "source": [
    "Ta sẽ xếp các cột datetime vào nhóm numeric luôn. Như vậy, ta có 2 cột numeric là: \"Year\" và \"Number of deaths\"\n",
    "\n",
    "Với mỗi cột numeric ta sẽ tính tỉ lệ % giá trị thiếu (từ 0 đến 100), min, max. Kết quả sẽ được lưu vào dataframe nume_col_profiles_df. Dataframe này có 3 dòng là \"missing_ratio\", \"min\", \"max\"; và có 2 cột là \"Year\" và \"Number of deaths\"."
   ]
  },
  {
   "cell_type": "code",
   "execution_count": 12,
   "metadata": {
    "scrolled": false
   },
   "outputs": [
    {
     "data": {
      "text/html": [
       "<div>\n",
       "<style scoped>\n",
       "    .dataframe tbody tr th:only-of-type {\n",
       "        vertical-align: middle;\n",
       "    }\n",
       "\n",
       "    .dataframe tbody tr th {\n",
       "        vertical-align: top;\n",
       "    }\n",
       "\n",
       "    .dataframe thead th {\n",
       "        text-align: right;\n",
       "    }\n",
       "</style>\n",
       "<table border=\"1\" class=\"dataframe\">\n",
       "  <thead>\n",
       "    <tr style=\"text-align: right;\">\n",
       "      <th></th>\n",
       "      <th>Year</th>\n",
       "      <th>Number of deaths</th>\n",
       "    </tr>\n",
       "  </thead>\n",
       "  <tbody>\n",
       "    <tr>\n",
       "      <th>missing_ratio</th>\n",
       "      <td>0.0</td>\n",
       "      <td>21.313254</td>\n",
       "    </tr>\n",
       "    <tr>\n",
       "      <th>min</th>\n",
       "      <td>2000-01-01 00:00:00</td>\n",
       "      <td>0.0</td>\n",
       "    </tr>\n",
       "    <tr>\n",
       "      <th>max</th>\n",
       "      <td>2020-01-01 00:00:00</td>\n",
       "      <td>206559.0</td>\n",
       "    </tr>\n",
       "  </tbody>\n",
       "</table>\n",
       "</div>"
      ],
      "text/plain": [
       "                              Year Number of deaths\n",
       "missing_ratio                  0.0        21.313254\n",
       "min            2000-01-01 00:00:00              0.0\n",
       "max            2020-01-01 00:00:00         206559.0"
      ]
     },
     "execution_count": 12,
     "metadata": {},
     "output_type": "execute_result"
    }
   ],
   "source": [
    "nume_col_df = df[[\"Year\", \"Number of deaths\"]]\n",
    "\n",
    "data = {\"missing_ratio\": nume_col_df.isna().mean() * 100,\n",
    "        \"min\": nume_col_df.min(),\n",
    "        \"max\": nume_col_df.max()}\n",
    "\n",
    "nume_col_profiles_df = pd.DataFrame(data).T\n",
    "\n",
    "nume_col_profiles_df"
   ]
  },
  {
   "cell_type": "markdown",
   "metadata": {},
   "source": [
    "**Có gì bất thường không?**"
   ]
  },
  {
   "cell_type": "markdown",
   "metadata": {},
   "source": [
    "### Với mỗi cột có kiểu dữ liệu dạng phân loại (categorical), các giá trị được phân bố như thế nào?"
   ]
  },
  {
   "cell_type": "markdown",
   "metadata": {},
   "source": [
    "df có 3 cột categorical là: \"Cause of death\", \"Age\", \"Country\".\n",
    "\n",
    "Với mỗi cột categorical, ta tính tỉ lệ % giá trị thiếu (từ 0 đến 100), số lượng giá trị khác nhau (không xét giá trị thiếu), list các giá trị khác nhau (không xét giá trị thiếu). Ta lưu kết quả vào dataframe cate_col_profiles_df. Dataframe này có 3 dòng là \"missing_ratio\", \"num_diff_vals\", \"diff_vals\"; và có 3 cột là \"Cause of death\", \"Age\", \"Country\"."
   ]
  },
  {
   "cell_type": "code",
   "execution_count": 13,
   "metadata": {
    "scrolled": true
   },
   "outputs": [
    {
     "data": {
      "text/html": [
       "<div>\n",
       "<style scoped>\n",
       "    .dataframe tbody tr th:only-of-type {\n",
       "        vertical-align: middle;\n",
       "    }\n",
       "\n",
       "    .dataframe tbody tr th {\n",
       "        vertical-align: top;\n",
       "    }\n",
       "\n",
       "    .dataframe thead th {\n",
       "        text-align: right;\n",
       "    }\n",
       "</style>\n",
       "<table border=\"1\" class=\"dataframe\">\n",
       "  <thead>\n",
       "    <tr style=\"text-align: right;\">\n",
       "      <th></th>\n",
       "      <th>Cause of death</th>\n",
       "      <th>Age</th>\n",
       "      <th>Country</th>\n",
       "    </tr>\n",
       "  </thead>\n",
       "  <tbody>\n",
       "    <tr>\n",
       "      <th>missing_ratio</th>\n",
       "      <td>0.0</td>\n",
       "      <td>0.0</td>\n",
       "      <td>0.0</td>\n",
       "    </tr>\n",
       "    <tr>\n",
       "      <th>num_diff_vals</th>\n",
       "      <td>14</td>\n",
       "      <td>8</td>\n",
       "      <td>113</td>\n",
       "    </tr>\n",
       "    <tr>\n",
       "      <th>diff_vals</th>\n",
       "      <td>[HIV/AIDS, Malaria, Tuberculosis, Brain and ne...</td>\n",
       "      <td>[0, 1-4, 5-14, 15-24, 25-34, 35-54, 55-74, 75+]</td>\n",
       "      <td>[Kuwait, Montenegro, Portugal, Poland, Philipp...</td>\n",
       "    </tr>\n",
       "  </tbody>\n",
       "</table>\n",
       "</div>"
      ],
      "text/plain": [
       "                                                  Cause of death  \\\n",
       "missing_ratio                                                0.0   \n",
       "num_diff_vals                                                 14   \n",
       "diff_vals      [HIV/AIDS, Malaria, Tuberculosis, Brain and ne...   \n",
       "\n",
       "                                                           Age  \\\n",
       "missing_ratio                                              0.0   \n",
       "num_diff_vals                                                8   \n",
       "diff_vals      [0, 1-4, 5-14, 15-24, 25-34, 35-54, 55-74, 75+]   \n",
       "\n",
       "                                                         Country  \n",
       "missing_ratio                                                0.0  \n",
       "num_diff_vals                                                113  \n",
       "diff_vals      [Kuwait, Montenegro, Portugal, Poland, Philipp...  "
      ]
     },
     "execution_count": 13,
     "metadata": {},
     "output_type": "execute_result"
    }
   ],
   "source": [
    "cate_col_df = df[[\"Cause of death\", \"Age\", \"Country\"]]\n",
    "cate_col_profiles_dict = {}\n",
    "\n",
    "for col in cate_col_df:\n",
    "    missing_ratio = cate_col_df[col].isna().mean()*100\n",
    "    diff_vals = list(cate_col_df[col].value_counts(dropna=True).index)\n",
    "    num_diff_vals = len(diff_vals)\n",
    "    \n",
    "    cate_col_profiles_dict[col] = {\"missing_ratio\": missing_ratio,\n",
    "                                   \"num_diff_vals\": num_diff_vals,\n",
    "                                   \"diff_vals\": diff_vals}\n",
    "\n",
    "cate_col_profiles_df = pd.DataFrame(cate_col_profiles_dict)\n",
    "\n",
    "cate_col_profiles_df"
   ]
  },
  {
   "cell_type": "markdown",
   "metadata": {},
   "source": [
    "**Có gì bất thường không?**"
   ]
  },
  {
   "cell_type": "markdown",
   "metadata": {},
   "source": [
    "### Tiền xử lý"
   ]
  },
  {
   "cell_type": "markdown",
   "metadata": {},
   "source": [
    "Các dòng có giá trị tại cột \"Cause of death\" bằng 0 hoặc NAN sẽ không có ý nghĩa cho thống kê dữ liệu, vì vậy ta sẽ tiến hành xóa các dòng này. Sau đó chuyển kiểu dữ liệu của cột \"Cause of death\" về `int` như đã nói ở trên"
   ]
  },
  {
   "cell_type": "code",
   "execution_count": 39,
   "metadata": {},
   "outputs": [
    {
     "data": {
      "text/html": [
       "<div>\n",
       "<style scoped>\n",
       "    .dataframe tbody tr th:only-of-type {\n",
       "        vertical-align: middle;\n",
       "    }\n",
       "\n",
       "    .dataframe tbody tr th {\n",
       "        vertical-align: top;\n",
       "    }\n",
       "\n",
       "    .dataframe thead th {\n",
       "        text-align: right;\n",
       "    }\n",
       "</style>\n",
       "<table border=\"1\" class=\"dataframe\">\n",
       "  <thead>\n",
       "    <tr style=\"text-align: right;\">\n",
       "      <th></th>\n",
       "      <th>Cause of death</th>\n",
       "      <th>Age</th>\n",
       "      <th>Year</th>\n",
       "      <th>Country</th>\n",
       "      <th>Number of deaths</th>\n",
       "    </tr>\n",
       "  </thead>\n",
       "  <tbody>\n",
       "    <tr>\n",
       "      <th>33</th>\n",
       "      <td>HIV/AIDS</td>\n",
       "      <td>0</td>\n",
       "      <td>2020-01-01</td>\n",
       "      <td>Estonia</td>\n",
       "      <td>1</td>\n",
       "    </tr>\n",
       "    <tr>\n",
       "      <th>38</th>\n",
       "      <td>HIV/AIDS</td>\n",
       "      <td>0</td>\n",
       "      <td>2020-01-01</td>\n",
       "      <td>Georgia</td>\n",
       "      <td>1</td>\n",
       "    </tr>\n",
       "    <tr>\n",
       "      <th>43</th>\n",
       "      <td>HIV/AIDS</td>\n",
       "      <td>0</td>\n",
       "      <td>2020-01-01</td>\n",
       "      <td>Guatemala</td>\n",
       "      <td>1</td>\n",
       "    </tr>\n",
       "    <tr>\n",
       "      <th>67</th>\n",
       "      <td>HIV/AIDS</td>\n",
       "      <td>0</td>\n",
       "      <td>2020-01-01</td>\n",
       "      <td>Mexico</td>\n",
       "      <td>14</td>\n",
       "    </tr>\n",
       "    <tr>\n",
       "      <th>109</th>\n",
       "      <td>HIV/AIDS</td>\n",
       "      <td>0</td>\n",
       "      <td>2020-01-01</td>\n",
       "      <td>United States of America</td>\n",
       "      <td>2</td>\n",
       "    </tr>\n",
       "    <tr>\n",
       "      <th>...</th>\n",
       "      <td>...</td>\n",
       "      <td>...</td>\n",
       "      <td>...</td>\n",
       "      <td>...</td>\n",
       "      <td>...</td>\n",
       "    </tr>\n",
       "    <tr>\n",
       "      <th>261975</th>\n",
       "      <td>War</td>\n",
       "      <td>75+</td>\n",
       "      <td>2007-01-01</td>\n",
       "      <td>Sri Lanka</td>\n",
       "      <td>14</td>\n",
       "    </tr>\n",
       "    <tr>\n",
       "      <th>262010</th>\n",
       "      <td>War</td>\n",
       "      <td>75+</td>\n",
       "      <td>2006-01-01</td>\n",
       "      <td>Colombia</td>\n",
       "      <td>3</td>\n",
       "    </tr>\n",
       "    <tr>\n",
       "      <th>262028</th>\n",
       "      <td>War</td>\n",
       "      <td>75+</td>\n",
       "      <td>2006-01-01</td>\n",
       "      <td>Germany</td>\n",
       "      <td>1</td>\n",
       "    </tr>\n",
       "    <tr>\n",
       "      <th>262084</th>\n",
       "      <td>War</td>\n",
       "      <td>75+</td>\n",
       "      <td>2006-01-01</td>\n",
       "      <td>Sri Lanka</td>\n",
       "      <td>9</td>\n",
       "    </tr>\n",
       "    <tr>\n",
       "      <th>262121</th>\n",
       "      <td>War</td>\n",
       "      <td>75+</td>\n",
       "      <td>2005-01-01</td>\n",
       "      <td>Croatia</td>\n",
       "      <td>2</td>\n",
       "    </tr>\n",
       "  </tbody>\n",
       "</table>\n",
       "<p>111398 rows × 5 columns</p>\n",
       "</div>"
      ],
      "text/plain": [
       "       Cause of death  Age       Year                   Country  \\\n",
       "33           HIV/AIDS    0 2020-01-01                   Estonia   \n",
       "38           HIV/AIDS    0 2020-01-01                   Georgia   \n",
       "43           HIV/AIDS    0 2020-01-01                 Guatemala   \n",
       "67           HIV/AIDS    0 2020-01-01                    Mexico   \n",
       "109          HIV/AIDS    0 2020-01-01  United States of America   \n",
       "...               ...  ...        ...                       ...   \n",
       "261975            War  75+ 2007-01-01                 Sri Lanka   \n",
       "262010            War  75+ 2006-01-01                  Colombia   \n",
       "262028            War  75+ 2006-01-01                   Germany   \n",
       "262084            War  75+ 2006-01-01                 Sri Lanka   \n",
       "262121            War  75+ 2005-01-01                   Croatia   \n",
       "\n",
       "        Number of deaths  \n",
       "33                     1  \n",
       "38                     1  \n",
       "43                     1  \n",
       "67                    14  \n",
       "109                    2  \n",
       "...                  ...  \n",
       "261975                14  \n",
       "262010                 3  \n",
       "262028                 1  \n",
       "262084                 9  \n",
       "262121                 2  \n",
       "\n",
       "[111398 rows x 5 columns]"
      ]
     },
     "execution_count": 39,
     "metadata": {},
     "output_type": "execute_result"
    }
   ],
   "source": [
    "df = df[df['Number of deaths'] != 0.0].dropna().astype({'Number of deaths': int})\n",
    "df"
   ]
  },
  {
   "cell_type": "markdown",
   "metadata": {},
   "source": [
    "============================================================================================="
   ]
  },
  {
   "cell_type": "markdown",
   "metadata": {},
   "source": [
    "#### Chia 'Number of deaths' theo 'Cause death' và gom nhóm theo 'Country', 'Year' và 'Age'\n",
    "- Thay các giá trị Nan bằng giá trị 0 vì Nan hay cũng đều không có ý nghĩa cho thống kê dữ liệu, thay thế để dễ dàng có các bước trả lời câu hỏi hơn."
   ]
  },
  {
   "cell_type": "code",
   "execution_count": 17,
   "metadata": {},
   "outputs": [
    {
     "data": {
      "text/html": [
       "<div>\n",
       "<style scoped>\n",
       "    .dataframe tbody tr th:only-of-type {\n",
       "        vertical-align: middle;\n",
       "    }\n",
       "\n",
       "    .dataframe tbody tr th {\n",
       "        vertical-align: top;\n",
       "    }\n",
       "\n",
       "    .dataframe thead th {\n",
       "        text-align: right;\n",
       "    }\n",
       "</style>\n",
       "<table border=\"1\" class=\"dataframe\">\n",
       "  <thead>\n",
       "    <tr style=\"text-align: right;\">\n",
       "      <th></th>\n",
       "      <th>Country</th>\n",
       "      <th>Year</th>\n",
       "      <th>Age</th>\n",
       "      <th>Brain and nervous system cancers</th>\n",
       "      <th>Covid-19</th>\n",
       "      <th>Dengue</th>\n",
       "      <th>Drownings</th>\n",
       "      <th>Fires</th>\n",
       "      <th>HIV/AIDS</th>\n",
       "      <th>Leukaemia</th>\n",
       "      <th>Malaria</th>\n",
       "      <th>Natural disasters</th>\n",
       "      <th>Road traffic accidents</th>\n",
       "      <th>Self-inflicted injuries</th>\n",
       "      <th>Tuberculosis</th>\n",
       "      <th>Violence</th>\n",
       "      <th>War</th>\n",
       "    </tr>\n",
       "  </thead>\n",
       "  <tbody>\n",
       "    <tr>\n",
       "      <th>0</th>\n",
       "      <td>Albania</td>\n",
       "      <td>2000-01-01</td>\n",
       "      <td>0</td>\n",
       "      <td>0</td>\n",
       "      <td>0</td>\n",
       "      <td>0</td>\n",
       "      <td>0</td>\n",
       "      <td>0</td>\n",
       "      <td>0</td>\n",
       "      <td>1</td>\n",
       "      <td>0</td>\n",
       "      <td>0</td>\n",
       "      <td>1</td>\n",
       "      <td>0</td>\n",
       "      <td>0</td>\n",
       "      <td>0</td>\n",
       "      <td>1</td>\n",
       "    </tr>\n",
       "    <tr>\n",
       "      <th>1</th>\n",
       "      <td>Albania</td>\n",
       "      <td>2000-01-01</td>\n",
       "      <td>1-4</td>\n",
       "      <td>0</td>\n",
       "      <td>0</td>\n",
       "      <td>0</td>\n",
       "      <td>12</td>\n",
       "      <td>1</td>\n",
       "      <td>0</td>\n",
       "      <td>3</td>\n",
       "      <td>0</td>\n",
       "      <td>0</td>\n",
       "      <td>0</td>\n",
       "      <td>0</td>\n",
       "      <td>2</td>\n",
       "      <td>0</td>\n",
       "      <td>0</td>\n",
       "    </tr>\n",
       "    <tr>\n",
       "      <th>2</th>\n",
       "      <td>Albania</td>\n",
       "      <td>2000-01-01</td>\n",
       "      <td>15-24</td>\n",
       "      <td>4</td>\n",
       "      <td>0</td>\n",
       "      <td>0</td>\n",
       "      <td>4</td>\n",
       "      <td>2</td>\n",
       "      <td>0</td>\n",
       "      <td>10</td>\n",
       "      <td>0</td>\n",
       "      <td>3</td>\n",
       "      <td>6</td>\n",
       "      <td>11</td>\n",
       "      <td>0</td>\n",
       "      <td>29</td>\n",
       "      <td>0</td>\n",
       "    </tr>\n",
       "    <tr>\n",
       "      <th>3</th>\n",
       "      <td>Albania</td>\n",
       "      <td>2000-01-01</td>\n",
       "      <td>25-34</td>\n",
       "      <td>6</td>\n",
       "      <td>0</td>\n",
       "      <td>0</td>\n",
       "      <td>5</td>\n",
       "      <td>0</td>\n",
       "      <td>0</td>\n",
       "      <td>9</td>\n",
       "      <td>0</td>\n",
       "      <td>1</td>\n",
       "      <td>13</td>\n",
       "      <td>20</td>\n",
       "      <td>0</td>\n",
       "      <td>34</td>\n",
       "      <td>0</td>\n",
       "    </tr>\n",
       "    <tr>\n",
       "      <th>4</th>\n",
       "      <td>Albania</td>\n",
       "      <td>2000-01-01</td>\n",
       "      <td>35-54</td>\n",
       "      <td>33</td>\n",
       "      <td>0</td>\n",
       "      <td>0</td>\n",
       "      <td>4</td>\n",
       "      <td>1</td>\n",
       "      <td>0</td>\n",
       "      <td>18</td>\n",
       "      <td>0</td>\n",
       "      <td>1</td>\n",
       "      <td>15</td>\n",
       "      <td>9</td>\n",
       "      <td>4</td>\n",
       "      <td>35</td>\n",
       "      <td>0</td>\n",
       "    </tr>\n",
       "    <tr>\n",
       "      <th>5</th>\n",
       "      <td>Albania</td>\n",
       "      <td>2000-01-01</td>\n",
       "      <td>5-14</td>\n",
       "      <td>2</td>\n",
       "      <td>0</td>\n",
       "      <td>0</td>\n",
       "      <td>7</td>\n",
       "      <td>0</td>\n",
       "      <td>0</td>\n",
       "      <td>8</td>\n",
       "      <td>0</td>\n",
       "      <td>2</td>\n",
       "      <td>6</td>\n",
       "      <td>1</td>\n",
       "      <td>1</td>\n",
       "      <td>1</td>\n",
       "      <td>0</td>\n",
       "    </tr>\n",
       "    <tr>\n",
       "      <th>6</th>\n",
       "      <td>Albania</td>\n",
       "      <td>2000-01-01</td>\n",
       "      <td>55-74</td>\n",
       "      <td>55</td>\n",
       "      <td>0</td>\n",
       "      <td>0</td>\n",
       "      <td>1</td>\n",
       "      <td>1</td>\n",
       "      <td>0</td>\n",
       "      <td>38</td>\n",
       "      <td>0</td>\n",
       "      <td>1</td>\n",
       "      <td>9</td>\n",
       "      <td>10</td>\n",
       "      <td>6</td>\n",
       "      <td>11</td>\n",
       "      <td>0</td>\n",
       "    </tr>\n",
       "    <tr>\n",
       "      <th>7</th>\n",
       "      <td>Albania</td>\n",
       "      <td>2000-01-01</td>\n",
       "      <td>75+</td>\n",
       "      <td>8</td>\n",
       "      <td>0</td>\n",
       "      <td>0</td>\n",
       "      <td>1</td>\n",
       "      <td>1</td>\n",
       "      <td>0</td>\n",
       "      <td>9</td>\n",
       "      <td>0</td>\n",
       "      <td>0</td>\n",
       "      <td>0</td>\n",
       "      <td>3</td>\n",
       "      <td>3</td>\n",
       "      <td>3</td>\n",
       "      <td>0</td>\n",
       "    </tr>\n",
       "    <tr>\n",
       "      <th>8</th>\n",
       "      <td>Albania</td>\n",
       "      <td>2001-01-01</td>\n",
       "      <td>0</td>\n",
       "      <td>0</td>\n",
       "      <td>0</td>\n",
       "      <td>0</td>\n",
       "      <td>0</td>\n",
       "      <td>0</td>\n",
       "      <td>0</td>\n",
       "      <td>1</td>\n",
       "      <td>0</td>\n",
       "      <td>0</td>\n",
       "      <td>0</td>\n",
       "      <td>0</td>\n",
       "      <td>1</td>\n",
       "      <td>1</td>\n",
       "      <td>0</td>\n",
       "    </tr>\n",
       "    <tr>\n",
       "      <th>9</th>\n",
       "      <td>Albania</td>\n",
       "      <td>2001-01-01</td>\n",
       "      <td>1-4</td>\n",
       "      <td>2</td>\n",
       "      <td>0</td>\n",
       "      <td>0</td>\n",
       "      <td>11</td>\n",
       "      <td>0</td>\n",
       "      <td>0</td>\n",
       "      <td>5</td>\n",
       "      <td>0</td>\n",
       "      <td>0</td>\n",
       "      <td>7</td>\n",
       "      <td>0</td>\n",
       "      <td>0</td>\n",
       "      <td>2</td>\n",
       "      <td>0</td>\n",
       "    </tr>\n",
       "  </tbody>\n",
       "</table>\n",
       "</div>"
      ],
      "text/plain": [
       "   Country       Year    Age  Brain and nervous system cancers  Covid-19  \\\n",
       "0  Albania 2000-01-01      0                                 0         0   \n",
       "1  Albania 2000-01-01    1-4                                 0         0   \n",
       "2  Albania 2000-01-01  15-24                                 4         0   \n",
       "3  Albania 2000-01-01  25-34                                 6         0   \n",
       "4  Albania 2000-01-01  35-54                                33         0   \n",
       "5  Albania 2000-01-01   5-14                                 2         0   \n",
       "6  Albania 2000-01-01  55-74                                55         0   \n",
       "7  Albania 2000-01-01    75+                                 8         0   \n",
       "8  Albania 2001-01-01      0                                 0         0   \n",
       "9  Albania 2001-01-01    1-4                                 2         0   \n",
       "\n",
       "   Dengue  Drownings  Fires  HIV/AIDS  Leukaemia  Malaria  Natural disasters  \\\n",
       "0       0          0      0         0          1        0                  0   \n",
       "1       0         12      1         0          3        0                  0   \n",
       "2       0          4      2         0         10        0                  3   \n",
       "3       0          5      0         0          9        0                  1   \n",
       "4       0          4      1         0         18        0                  1   \n",
       "5       0          7      0         0          8        0                  2   \n",
       "6       0          1      1         0         38        0                  1   \n",
       "7       0          1      1         0          9        0                  0   \n",
       "8       0          0      0         0          1        0                  0   \n",
       "9       0         11      0         0          5        0                  0   \n",
       "\n",
       "   Road traffic accidents  Self-inflicted injuries  Tuberculosis  Violence  \\\n",
       "0                       1                        0             0         0   \n",
       "1                       0                        0             2         0   \n",
       "2                       6                       11             0        29   \n",
       "3                      13                       20             0        34   \n",
       "4                      15                        9             4        35   \n",
       "5                       6                        1             1         1   \n",
       "6                       9                       10             6        11   \n",
       "7                       0                        3             3         3   \n",
       "8                       0                        0             1         1   \n",
       "9                       7                        0             0         2   \n",
       "\n",
       "   War  \n",
       "0    1  \n",
       "1    0  \n",
       "2    0  \n",
       "3    0  \n",
       "4    0  \n",
       "5    0  \n",
       "6    0  \n",
       "7    0  \n",
       "8    0  \n",
       "9    0  "
      ]
     },
     "metadata": {},
     "output_type": "display_data"
    },
    {
     "name": "stdout",
     "output_type": "stream",
     "text": [
      "18984 rows x 17 columns\n",
      "Nguyên nhân tử vong (14):\n",
      "HIV/AIDS\n",
      "Malaria\n",
      "Tuberculosis\n",
      "Dengue\n",
      "Covid-19\n",
      "Brain and nervous system cancers\n",
      "Leukaemia\n",
      "Road traffic accidents\n",
      "Fires\n",
      "Drownings\n",
      "Natural disasters\n",
      "Self-inflicted injuries\n",
      "Violence\n",
      "War\n"
     ]
    }
   ],
   "source": [
    "cause_death = df['Cause of death'].unique() # danh sách cause death\n",
    "df = pd.pivot_table(df, values='Number of deaths', index=['Country', 'Year', 'Age'], columns=['Cause of death'], aggfunc=np.sum, fill_value=0).reset_index()\n",
    "df = df.rename_axis(None, axis=1)\n",
    "display(df.head(10))\n",
    "print(f'{df.shape[0]} rows x {df.shape[1]} columns')\n",
    "print(f'Nguyên nhân tử vong ({len(cause_death)}):')\n",
    "print(*cause_death, sep='\\n')"
   ]
  },
  {
   "cell_type": "code",
   "execution_count": 18,
   "metadata": {},
   "outputs": [],
   "source": [
    "#df.describe()"
   ]
  },
  {
   "cell_type": "markdown",
   "metadata": {},
   "source": [
    "Đếm số dòng có giá trị 0 của các cột 'Country', 'Year', 'Age'"
   ]
  },
  {
   "cell_type": "code",
   "execution_count": 19,
   "metadata": {},
   "outputs": [
    {
     "name": "stdout",
     "output_type": "stream",
     "text": [
      "Country:  0\n",
      "Year   :  0\n",
      "Age    :  0\n"
     ]
    }
   ],
   "source": [
    "print('Country: ', (df.Country == 0).sum())\n",
    "print('Year   : ', (df.Year == 0).sum())\n",
    "print('Age    : ', (df.Age == 0).sum())"
   ]
  },
  {
   "cell_type": "markdown",
   "metadata": {},
   "source": [
    "Như vậy, chỉ có những cột nguyên nhân tử vong có chứa giá trị 0. </br>\n",
    "Một dòng mà dữ liệu chỉ chứa giá trị 0 thì dòng đó không có ý nghĩa.</br>\n",
    "==> Loại bỏ những dòng này."
   ]
  },
  {
   "cell_type": "code",
   "execution_count": 20,
   "metadata": {},
   "outputs": [
    {
     "name": "stdout",
     "output_type": "stream",
     "text": [
      "Kích thước trước khi xoá:  (18984, 17)\n",
      "Kích thước sau khi xoá  :  (14749, 17)\n"
     ]
    }
   ],
   "source": [
    "print('Kích thước trước khi xoá: ', df.shape)\n",
    "df = df[(df == 0).sum(1) < len(cause_death)]\n",
    "df.reset_index(drop=True, inplace=True)\n",
    "print('Kích thước sau khi xoá  : ', df.shape)\n"
   ]
  },
  {
   "cell_type": "markdown",
   "metadata": {},
   "source": [
    "#### Thêm cột tên khu vực của quốc gia"
   ]
  },
  {
   "cell_type": "code",
   "execution_count": 21,
   "metadata": {},
   "outputs": [
    {
     "name": "stdout",
     "output_type": "stream",
     "text": [
      "Các khu vực (6):\n",
      "Europe\n",
      "North America\n",
      "South America\n",
      "Asia\n",
      "Oceania\n",
      "Africa\n"
     ]
    }
   ],
   "source": [
    "# các quốc gia không được hỗ trợ bởi thư viện\n",
    "exceptive_countries = {\n",
    "    'China, Hong Kong SAR': 'Asia',\n",
    "    'Iran (Islamic Republic of)': 'Asia',\n",
    "    'Republic of Korea': 'Asia'\n",
    "}\n",
    "\n",
    "def country_to_continent(country_name):\n",
    "    if country_name in exceptive_countries:\n",
    "        return exceptive_countries[country_name]\n",
    "\n",
    "    country_alpha2 = pc.country_name_to_country_alpha2(country_name)\n",
    "    country_continent_code = pc.country_alpha2_to_continent_code(country_alpha2)\n",
    "    country_continent_name = pc.convert_continent_code_to_continent_name(country_continent_code)\n",
    "    return country_continent_name\n",
    "\n",
    "df.insert(loc = 0, column = 'Continent', value = df.Country.apply(country_to_continent))\n",
    "\n",
    "continents = df.Continent.unique() # danh sách các khu vực\n",
    "print(f'Các khu vực ({len(continents)}):')\n",
    "print(*continents, sep='\\n')"
   ]
  },
  {
   "cell_type": "markdown",
   "metadata": {},
   "source": [
    "Ví dụ một phần của dữ liệu"
   ]
  },
  {
   "cell_type": "code",
   "execution_count": 22,
   "metadata": {},
   "outputs": [
    {
     "data": {
      "text/html": [
       "<div>\n",
       "<style scoped>\n",
       "    .dataframe tbody tr th:only-of-type {\n",
       "        vertical-align: middle;\n",
       "    }\n",
       "\n",
       "    .dataframe tbody tr th {\n",
       "        vertical-align: top;\n",
       "    }\n",
       "\n",
       "    .dataframe thead th {\n",
       "        text-align: right;\n",
       "    }\n",
       "</style>\n",
       "<table border=\"1\" class=\"dataframe\">\n",
       "  <thead>\n",
       "    <tr style=\"text-align: right;\">\n",
       "      <th></th>\n",
       "      <th>Continent</th>\n",
       "      <th>Country</th>\n",
       "      <th>Year</th>\n",
       "      <th>Age</th>\n",
       "      <th>Brain and nervous system cancers</th>\n",
       "      <th>Covid-19</th>\n",
       "      <th>Dengue</th>\n",
       "      <th>Drownings</th>\n",
       "      <th>Fires</th>\n",
       "      <th>HIV/AIDS</th>\n",
       "      <th>Leukaemia</th>\n",
       "      <th>Malaria</th>\n",
       "      <th>Natural disasters</th>\n",
       "      <th>Road traffic accidents</th>\n",
       "      <th>Self-inflicted injuries</th>\n",
       "      <th>Tuberculosis</th>\n",
       "      <th>Violence</th>\n",
       "      <th>War</th>\n",
       "    </tr>\n",
       "  </thead>\n",
       "  <tbody>\n",
       "    <tr>\n",
       "      <th>6743</th>\n",
       "      <td>Europe</td>\n",
       "      <td>Italy</td>\n",
       "      <td>2015-01-01</td>\n",
       "      <td>0</td>\n",
       "      <td>3</td>\n",
       "      <td>0</td>\n",
       "      <td>0</td>\n",
       "      <td>0</td>\n",
       "      <td>0</td>\n",
       "      <td>0</td>\n",
       "      <td>4</td>\n",
       "      <td>0</td>\n",
       "      <td>0</td>\n",
       "      <td>7</td>\n",
       "      <td>0</td>\n",
       "      <td>0</td>\n",
       "      <td>2</td>\n",
       "      <td>0</td>\n",
       "    </tr>\n",
       "    <tr>\n",
       "      <th>6744</th>\n",
       "      <td>Europe</td>\n",
       "      <td>Italy</td>\n",
       "      <td>2015-01-01</td>\n",
       "      <td>1-4</td>\n",
       "      <td>13</td>\n",
       "      <td>0</td>\n",
       "      <td>0</td>\n",
       "      <td>5</td>\n",
       "      <td>0</td>\n",
       "      <td>0</td>\n",
       "      <td>20</td>\n",
       "      <td>0</td>\n",
       "      <td>0</td>\n",
       "      <td>11</td>\n",
       "      <td>0</td>\n",
       "      <td>1</td>\n",
       "      <td>1</td>\n",
       "      <td>0</td>\n",
       "    </tr>\n",
       "    <tr>\n",
       "      <th>6745</th>\n",
       "      <td>Europe</td>\n",
       "      <td>Italy</td>\n",
       "      <td>2015-01-01</td>\n",
       "      <td>15-24</td>\n",
       "      <td>38</td>\n",
       "      <td>0</td>\n",
       "      <td>0</td>\n",
       "      <td>27</td>\n",
       "      <td>5</td>\n",
       "      <td>3</td>\n",
       "      <td>57</td>\n",
       "      <td>0</td>\n",
       "      <td>7</td>\n",
       "      <td>452</td>\n",
       "      <td>195</td>\n",
       "      <td>1</td>\n",
       "      <td>38</td>\n",
       "      <td>0</td>\n",
       "    </tr>\n",
       "    <tr>\n",
       "      <th>6746</th>\n",
       "      <td>Europe</td>\n",
       "      <td>Italy</td>\n",
       "      <td>2015-01-01</td>\n",
       "      <td>25-34</td>\n",
       "      <td>57</td>\n",
       "      <td>0</td>\n",
       "      <td>0</td>\n",
       "      <td>35</td>\n",
       "      <td>7</td>\n",
       "      <td>29</td>\n",
       "      <td>66</td>\n",
       "      <td>0</td>\n",
       "      <td>6</td>\n",
       "      <td>429</td>\n",
       "      <td>335</td>\n",
       "      <td>7</td>\n",
       "      <td>61</td>\n",
       "      <td>0</td>\n",
       "    </tr>\n",
       "    <tr>\n",
       "      <th>6747</th>\n",
       "      <td>Europe</td>\n",
       "      <td>Italy</td>\n",
       "      <td>2015-01-01</td>\n",
       "      <td>35-54</td>\n",
       "      <td>657</td>\n",
       "      <td>0</td>\n",
       "      <td>0</td>\n",
       "      <td>70</td>\n",
       "      <td>34</td>\n",
       "      <td>401</td>\n",
       "      <td>358</td>\n",
       "      <td>1</td>\n",
       "      <td>33</td>\n",
       "      <td>932</td>\n",
       "      <td>1383</td>\n",
       "      <td>31</td>\n",
       "      <td>166</td>\n",
       "      <td>0</td>\n",
       "    </tr>\n",
       "    <tr>\n",
       "      <th>6748</th>\n",
       "      <td>Europe</td>\n",
       "      <td>Italy</td>\n",
       "      <td>2015-01-01</td>\n",
       "      <td>5-14</td>\n",
       "      <td>39</td>\n",
       "      <td>0</td>\n",
       "      <td>0</td>\n",
       "      <td>10</td>\n",
       "      <td>0</td>\n",
       "      <td>0</td>\n",
       "      <td>48</td>\n",
       "      <td>0</td>\n",
       "      <td>0</td>\n",
       "      <td>25</td>\n",
       "      <td>13</td>\n",
       "      <td>1</td>\n",
       "      <td>2</td>\n",
       "      <td>0</td>\n",
       "    </tr>\n",
       "    <tr>\n",
       "      <th>6749</th>\n",
       "      <td>Europe</td>\n",
       "      <td>Italy</td>\n",
       "      <td>2015-01-01</td>\n",
       "      <td>55-74</td>\n",
       "      <td>2011</td>\n",
       "      <td>0</td>\n",
       "      <td>0</td>\n",
       "      <td>120</td>\n",
       "      <td>51</td>\n",
       "      <td>222</td>\n",
       "      <td>1737</td>\n",
       "      <td>0</td>\n",
       "      <td>15</td>\n",
       "      <td>821</td>\n",
       "      <td>1237</td>\n",
       "      <td>65</td>\n",
       "      <td>81</td>\n",
       "      <td>0</td>\n",
       "    </tr>\n",
       "    <tr>\n",
       "      <th>6750</th>\n",
       "      <td>Europe</td>\n",
       "      <td>Italy</td>\n",
       "      <td>2015-01-01</td>\n",
       "      <td>75+</td>\n",
       "      <td>1320</td>\n",
       "      <td>0</td>\n",
       "      <td>0</td>\n",
       "      <td>82</td>\n",
       "      <td>134</td>\n",
       "      <td>49</td>\n",
       "      <td>3745</td>\n",
       "      <td>1</td>\n",
       "      <td>2</td>\n",
       "      <td>750</td>\n",
       "      <td>825</td>\n",
       "      <td>226</td>\n",
       "      <td>44</td>\n",
       "      <td>0</td>\n",
       "    </tr>\n",
       "  </tbody>\n",
       "</table>\n",
       "</div>"
      ],
      "text/plain": [
       "     Continent Country       Year    Age  Brain and nervous system cancers  \\\n",
       "6743    Europe   Italy 2015-01-01      0                                 3   \n",
       "6744    Europe   Italy 2015-01-01    1-4                                13   \n",
       "6745    Europe   Italy 2015-01-01  15-24                                38   \n",
       "6746    Europe   Italy 2015-01-01  25-34                                57   \n",
       "6747    Europe   Italy 2015-01-01  35-54                               657   \n",
       "6748    Europe   Italy 2015-01-01   5-14                                39   \n",
       "6749    Europe   Italy 2015-01-01  55-74                              2011   \n",
       "6750    Europe   Italy 2015-01-01    75+                              1320   \n",
       "\n",
       "      Covid-19  Dengue  Drownings  Fires  HIV/AIDS  Leukaemia  Malaria  \\\n",
       "6743         0       0          0      0         0          4        0   \n",
       "6744         0       0          5      0         0         20        0   \n",
       "6745         0       0         27      5         3         57        0   \n",
       "6746         0       0         35      7        29         66        0   \n",
       "6747         0       0         70     34       401        358        1   \n",
       "6748         0       0         10      0         0         48        0   \n",
       "6749         0       0        120     51       222       1737        0   \n",
       "6750         0       0         82    134        49       3745        1   \n",
       "\n",
       "      Natural disasters  Road traffic accidents  Self-inflicted injuries  \\\n",
       "6743                  0                       7                        0   \n",
       "6744                  0                      11                        0   \n",
       "6745                  7                     452                      195   \n",
       "6746                  6                     429                      335   \n",
       "6747                 33                     932                     1383   \n",
       "6748                  0                      25                       13   \n",
       "6749                 15                     821                     1237   \n",
       "6750                  2                     750                      825   \n",
       "\n",
       "      Tuberculosis  Violence  War  \n",
       "6743             0         2    0  \n",
       "6744             1         1    0  \n",
       "6745             1        38    0  \n",
       "6746             7        61    0  \n",
       "6747            31       166    0  \n",
       "6748             1         2    0  \n",
       "6749            65        81    0  \n",
       "6750           226        44    0  "
      ]
     },
     "execution_count": 22,
     "metadata": {},
     "output_type": "execute_result"
    }
   ],
   "source": [
    "df.query(\"Country == 'Italy' and '2015' in Year \") # Dữ liệu Italy năm 2015"
   ]
  },
  {
   "cell_type": "code",
   "execution_count": 23,
   "metadata": {
    "scrolled": true
   },
   "outputs": [
    {
     "data": {
      "text/html": [
       "<div>\n",
       "<style scoped>\n",
       "    .dataframe tbody tr th:only-of-type {\n",
       "        vertical-align: middle;\n",
       "    }\n",
       "\n",
       "    .dataframe tbody tr th {\n",
       "        vertical-align: top;\n",
       "    }\n",
       "\n",
       "    .dataframe thead th {\n",
       "        text-align: right;\n",
       "    }\n",
       "</style>\n",
       "<table border=\"1\" class=\"dataframe\">\n",
       "  <thead>\n",
       "    <tr style=\"text-align: right;\">\n",
       "      <th></th>\n",
       "      <th>Continent</th>\n",
       "      <th>Country</th>\n",
       "      <th>Year</th>\n",
       "      <th>Age</th>\n",
       "      <th>Brain and nervous system cancers</th>\n",
       "      <th>Covid-19</th>\n",
       "      <th>Dengue</th>\n",
       "      <th>Drownings</th>\n",
       "      <th>Fires</th>\n",
       "      <th>HIV/AIDS</th>\n",
       "      <th>Leukaemia</th>\n",
       "      <th>Malaria</th>\n",
       "      <th>Natural disasters</th>\n",
       "      <th>Road traffic accidents</th>\n",
       "      <th>Self-inflicted injuries</th>\n",
       "      <th>Tuberculosis</th>\n",
       "      <th>Violence</th>\n",
       "      <th>War</th>\n",
       "    </tr>\n",
       "  </thead>\n",
       "  <tbody>\n",
       "    <tr>\n",
       "      <th>0</th>\n",
       "      <td>Europe</td>\n",
       "      <td>Albania</td>\n",
       "      <td>2000-01-01</td>\n",
       "      <td>0</td>\n",
       "      <td>0</td>\n",
       "      <td>0</td>\n",
       "      <td>0</td>\n",
       "      <td>0</td>\n",
       "      <td>0</td>\n",
       "      <td>0</td>\n",
       "      <td>1</td>\n",
       "      <td>0</td>\n",
       "      <td>0</td>\n",
       "      <td>1</td>\n",
       "      <td>0</td>\n",
       "      <td>0</td>\n",
       "      <td>0</td>\n",
       "      <td>1</td>\n",
       "    </tr>\n",
       "    <tr>\n",
       "      <th>1</th>\n",
       "      <td>Europe</td>\n",
       "      <td>Albania</td>\n",
       "      <td>2000-01-01</td>\n",
       "      <td>1-4</td>\n",
       "      <td>0</td>\n",
       "      <td>0</td>\n",
       "      <td>0</td>\n",
       "      <td>12</td>\n",
       "      <td>1</td>\n",
       "      <td>0</td>\n",
       "      <td>3</td>\n",
       "      <td>0</td>\n",
       "      <td>0</td>\n",
       "      <td>0</td>\n",
       "      <td>0</td>\n",
       "      <td>2</td>\n",
       "      <td>0</td>\n",
       "      <td>0</td>\n",
       "    </tr>\n",
       "    <tr>\n",
       "      <th>2</th>\n",
       "      <td>Europe</td>\n",
       "      <td>Albania</td>\n",
       "      <td>2000-01-01</td>\n",
       "      <td>15-24</td>\n",
       "      <td>4</td>\n",
       "      <td>0</td>\n",
       "      <td>0</td>\n",
       "      <td>4</td>\n",
       "      <td>2</td>\n",
       "      <td>0</td>\n",
       "      <td>10</td>\n",
       "      <td>0</td>\n",
       "      <td>3</td>\n",
       "      <td>6</td>\n",
       "      <td>11</td>\n",
       "      <td>0</td>\n",
       "      <td>29</td>\n",
       "      <td>0</td>\n",
       "    </tr>\n",
       "    <tr>\n",
       "      <th>3</th>\n",
       "      <td>Europe</td>\n",
       "      <td>Albania</td>\n",
       "      <td>2000-01-01</td>\n",
       "      <td>25-34</td>\n",
       "      <td>6</td>\n",
       "      <td>0</td>\n",
       "      <td>0</td>\n",
       "      <td>5</td>\n",
       "      <td>0</td>\n",
       "      <td>0</td>\n",
       "      <td>9</td>\n",
       "      <td>0</td>\n",
       "      <td>1</td>\n",
       "      <td>13</td>\n",
       "      <td>20</td>\n",
       "      <td>0</td>\n",
       "      <td>34</td>\n",
       "      <td>0</td>\n",
       "    </tr>\n",
       "    <tr>\n",
       "      <th>4</th>\n",
       "      <td>Europe</td>\n",
       "      <td>Albania</td>\n",
       "      <td>2000-01-01</td>\n",
       "      <td>35-54</td>\n",
       "      <td>33</td>\n",
       "      <td>0</td>\n",
       "      <td>0</td>\n",
       "      <td>4</td>\n",
       "      <td>1</td>\n",
       "      <td>0</td>\n",
       "      <td>18</td>\n",
       "      <td>0</td>\n",
       "      <td>1</td>\n",
       "      <td>15</td>\n",
       "      <td>9</td>\n",
       "      <td>4</td>\n",
       "      <td>35</td>\n",
       "      <td>0</td>\n",
       "    </tr>\n",
       "    <tr>\n",
       "      <th>...</th>\n",
       "      <td>...</td>\n",
       "      <td>...</td>\n",
       "      <td>...</td>\n",
       "      <td>...</td>\n",
       "      <td>...</td>\n",
       "      <td>...</td>\n",
       "      <td>...</td>\n",
       "      <td>...</td>\n",
       "      <td>...</td>\n",
       "      <td>...</td>\n",
       "      <td>...</td>\n",
       "      <td>...</td>\n",
       "      <td>...</td>\n",
       "      <td>...</td>\n",
       "      <td>...</td>\n",
       "      <td>...</td>\n",
       "      <td>...</td>\n",
       "      <td>...</td>\n",
       "    </tr>\n",
       "    <tr>\n",
       "      <th>14152</th>\n",
       "      <td>Europe</td>\n",
       "      <td>United Kingdom</td>\n",
       "      <td>2019-01-01</td>\n",
       "      <td>25-34</td>\n",
       "      <td>108</td>\n",
       "      <td>0</td>\n",
       "      <td>0</td>\n",
       "      <td>38</td>\n",
       "      <td>9</td>\n",
       "      <td>3</td>\n",
       "      <td>60</td>\n",
       "      <td>0</td>\n",
       "      <td>1</td>\n",
       "      <td>245</td>\n",
       "      <td>1023</td>\n",
       "      <td>3</td>\n",
       "      <td>71</td>\n",
       "      <td>0</td>\n",
       "    </tr>\n",
       "    <tr>\n",
       "      <th>14153</th>\n",
       "      <td>Europe</td>\n",
       "      <td>United Kingdom</td>\n",
       "      <td>2019-01-01</td>\n",
       "      <td>35-54</td>\n",
       "      <td>739</td>\n",
       "      <td>0</td>\n",
       "      <td>1</td>\n",
       "      <td>72</td>\n",
       "      <td>54</td>\n",
       "      <td>77</td>\n",
       "      <td>251</td>\n",
       "      <td>2</td>\n",
       "      <td>2</td>\n",
       "      <td>409</td>\n",
       "      <td>2268</td>\n",
       "      <td>28</td>\n",
       "      <td>118</td>\n",
       "      <td>0</td>\n",
       "    </tr>\n",
       "    <tr>\n",
       "      <th>14154</th>\n",
       "      <td>Europe</td>\n",
       "      <td>United Kingdom</td>\n",
       "      <td>2019-01-01</td>\n",
       "      <td>5-14</td>\n",
       "      <td>62</td>\n",
       "      <td>0</td>\n",
       "      <td>0</td>\n",
       "      <td>5</td>\n",
       "      <td>2</td>\n",
       "      <td>0</td>\n",
       "      <td>43</td>\n",
       "      <td>1</td>\n",
       "      <td>0</td>\n",
       "      <td>27</td>\n",
       "      <td>16</td>\n",
       "      <td>0</td>\n",
       "      <td>8</td>\n",
       "      <td>0</td>\n",
       "    </tr>\n",
       "    <tr>\n",
       "      <th>14155</th>\n",
       "      <td>Europe</td>\n",
       "      <td>United Kingdom</td>\n",
       "      <td>2019-01-01</td>\n",
       "      <td>55-74</td>\n",
       "      <td>2264</td>\n",
       "      <td>0</td>\n",
       "      <td>0</td>\n",
       "      <td>49</td>\n",
       "      <td>81</td>\n",
       "      <td>46</td>\n",
       "      <td>1578</td>\n",
       "      <td>8</td>\n",
       "      <td>2</td>\n",
       "      <td>400</td>\n",
       "      <td>1325</td>\n",
       "      <td>66</td>\n",
       "      <td>36</td>\n",
       "      <td>0</td>\n",
       "    </tr>\n",
       "    <tr>\n",
       "      <th>14156</th>\n",
       "      <td>Europe</td>\n",
       "      <td>United Kingdom</td>\n",
       "      <td>2019-01-01</td>\n",
       "      <td>75+</td>\n",
       "      <td>1352</td>\n",
       "      <td>0</td>\n",
       "      <td>0</td>\n",
       "      <td>25</td>\n",
       "      <td>92</td>\n",
       "      <td>9</td>\n",
       "      <td>3032</td>\n",
       "      <td>0</td>\n",
       "      <td>4</td>\n",
       "      <td>330</td>\n",
       "      <td>372</td>\n",
       "      <td>122</td>\n",
       "      <td>17</td>\n",
       "      <td>0</td>\n",
       "    </tr>\n",
       "  </tbody>\n",
       "</table>\n",
       "<p>5629 rows × 18 columns</p>\n",
       "</div>"
      ],
      "text/plain": [
       "      Continent         Country       Year    Age  \\\n",
       "0        Europe         Albania 2000-01-01      0   \n",
       "1        Europe         Albania 2000-01-01    1-4   \n",
       "2        Europe         Albania 2000-01-01  15-24   \n",
       "3        Europe         Albania 2000-01-01  25-34   \n",
       "4        Europe         Albania 2000-01-01  35-54   \n",
       "...         ...             ...        ...    ...   \n",
       "14152    Europe  United Kingdom 2019-01-01  25-34   \n",
       "14153    Europe  United Kingdom 2019-01-01  35-54   \n",
       "14154    Europe  United Kingdom 2019-01-01   5-14   \n",
       "14155    Europe  United Kingdom 2019-01-01  55-74   \n",
       "14156    Europe  United Kingdom 2019-01-01    75+   \n",
       "\n",
       "       Brain and nervous system cancers  Covid-19  Dengue  Drownings  Fires  \\\n",
       "0                                     0         0       0          0      0   \n",
       "1                                     0         0       0         12      1   \n",
       "2                                     4         0       0          4      2   \n",
       "3                                     6         0       0          5      0   \n",
       "4                                    33         0       0          4      1   \n",
       "...                                 ...       ...     ...        ...    ...   \n",
       "14152                               108         0       0         38      9   \n",
       "14153                               739         0       1         72     54   \n",
       "14154                                62         0       0          5      2   \n",
       "14155                              2264         0       0         49     81   \n",
       "14156                              1352         0       0         25     92   \n",
       "\n",
       "       HIV/AIDS  Leukaemia  Malaria  Natural disasters  \\\n",
       "0             0          1        0                  0   \n",
       "1             0          3        0                  0   \n",
       "2             0         10        0                  3   \n",
       "3             0          9        0                  1   \n",
       "4             0         18        0                  1   \n",
       "...         ...        ...      ...                ...   \n",
       "14152         3         60        0                  1   \n",
       "14153        77        251        2                  2   \n",
       "14154         0         43        1                  0   \n",
       "14155        46       1578        8                  2   \n",
       "14156         9       3032        0                  4   \n",
       "\n",
       "       Road traffic accidents  Self-inflicted injuries  Tuberculosis  \\\n",
       "0                           1                        0             0   \n",
       "1                           0                        0             2   \n",
       "2                           6                       11             0   \n",
       "3                          13                       20             0   \n",
       "4                          15                        9             4   \n",
       "...                       ...                      ...           ...   \n",
       "14152                     245                     1023             3   \n",
       "14153                     409                     2268            28   \n",
       "14154                      27                       16             0   \n",
       "14155                     400                     1325            66   \n",
       "14156                     330                      372           122   \n",
       "\n",
       "       Violence  War  \n",
       "0             0    1  \n",
       "1             0    0  \n",
       "2            29    0  \n",
       "3            34    0  \n",
       "4            35    0  \n",
       "...         ...  ...  \n",
       "14152        71    0  \n",
       "14153       118    0  \n",
       "14154         8    0  \n",
       "14155        36    0  \n",
       "14156        17    0  \n",
       "\n",
       "[5629 rows x 18 columns]"
      ]
     },
     "execution_count": 23,
     "metadata": {},
     "output_type": "execute_result"
    }
   ],
   "source": [
    "df[df['Continent']=='Europe']"
   ]
  },
  {
   "cell_type": "markdown",
   "metadata": {},
   "source": [
    "## 3. Đặt các câu hỏi có ý nghĩa cần trả lời"
   ]
  },
  {
   "cell_type": "markdown",
   "metadata": {},
   "source": [
    "Sau khi đã khám phá dữ liệu và hiểu hơn về dữ liệu, ta thấy có một số câu hỏi có thể được trả lời bằng dữ liệu:\n",
    "- Thế giới vừa gánh chịu hậu quả to lớn mà đại dịch Covid_19 vừa đem đến, ta sẽ tiến hành xử lý và tìm ra top 3 quốc gia có số lượng tử vong vì Covid nhiều nhất?\n",
    "    \n",
    "        Ý nghĩa: với câu hỏi trên, ta biết được những quốc gia có số lượng tử vong vì Covid nhiều nhất. Tử vong nhiều như thế chứng tỏ nỗi mất mác của quốc gia rất nặng nề. Ta đánh giá mục đích có những quan tâm giúp đỡ để bù đắp phần nào về nỗi đau của họ. Bên cạnh đó, việc tử vong nhiều là do công tác phòng chống dịch bệnh Covid của họ vẫn còn nhiều khiếm khuyết, ta cần đưa ra cá giải pháp hỗ trợ về mặt y tế cho các quốc gia này."
   ]
  },
  {
   "cell_type": "markdown",
   "metadata": {},
   "source": [
    "### Top 3 quốc gia có số lượng tử vong vì Covid nhiều nhất?\n",
    "\n",
    "Để trả lời cho câu hỏi này, ta sẽ làm như sau:\n",
    "- Bước 1: Tính số lượng ca tử vong theo từng nhóm tuổi. Chọn ra top 3 quốc gia có tổng số ca tử vong nhiều nhất. Ta lưu kết quả vào series `num_death_covid`.\n",
    "- Bước 2: Từ kết quả ở trên, ta vẽ group stack bar chart, trong đó trục hoành là số ca tử vong và trục tung là quốc gia. Ta đặt tên trục hoành là \"Num_deaths\" và tên trục tung là \"Country\"."
   ]
  },
  {
   "cell_type": "markdown",
   "metadata": {},
   "source": [
    "Code bước 1. "
   ]
  },
  {
   "cell_type": "code",
   "execution_count": 24,
   "metadata": {},
   "outputs": [
    {
     "data": {
      "text/html": [
       "<div>\n",
       "<style scoped>\n",
       "    .dataframe tbody tr th:only-of-type {\n",
       "        vertical-align: middle;\n",
       "    }\n",
       "\n",
       "    .dataframe tbody tr th {\n",
       "        vertical-align: top;\n",
       "    }\n",
       "\n",
       "    .dataframe thead th {\n",
       "        text-align: right;\n",
       "    }\n",
       "</style>\n",
       "<table border=\"1\" class=\"dataframe\">\n",
       "  <thead>\n",
       "    <tr style=\"text-align: right;\">\n",
       "      <th>Age</th>\n",
       "      <th>0</th>\n",
       "      <th>1-4</th>\n",
       "      <th>15-24</th>\n",
       "      <th>25-34</th>\n",
       "      <th>35-54</th>\n",
       "      <th>5-14</th>\n",
       "      <th>55-74</th>\n",
       "      <th>75+</th>\n",
       "    </tr>\n",
       "    <tr>\n",
       "      <th>Country</th>\n",
       "      <th></th>\n",
       "      <th></th>\n",
       "      <th></th>\n",
       "      <th></th>\n",
       "      <th></th>\n",
       "      <th></th>\n",
       "      <th></th>\n",
       "      <th></th>\n",
       "    </tr>\n",
       "  </thead>\n",
       "  <tbody>\n",
       "    <tr>\n",
       "      <th>United States of America</th>\n",
       "      <td>35</td>\n",
       "      <td>19</td>\n",
       "      <td>501</td>\n",
       "      <td>2254</td>\n",
       "      <td>23043</td>\n",
       "      <td>49</td>\n",
       "      <td>118367</td>\n",
       "      <td>206559</td>\n",
       "    </tr>\n",
       "    <tr>\n",
       "      <th>Mexico</th>\n",
       "      <td>209</td>\n",
       "      <td>111</td>\n",
       "      <td>926</td>\n",
       "      <td>4534</td>\n",
       "      <td>45906</td>\n",
       "      <td>150</td>\n",
       "      <td>103836</td>\n",
       "      <td>44530</td>\n",
       "    </tr>\n",
       "    <tr>\n",
       "      <th>Spain</th>\n",
       "      <td>4</td>\n",
       "      <td>1</td>\n",
       "      <td>24</td>\n",
       "      <td>93</td>\n",
       "      <td>1442</td>\n",
       "      <td>5</td>\n",
       "      <td>12731</td>\n",
       "      <td>60539</td>\n",
       "    </tr>\n",
       "  </tbody>\n",
       "</table>\n",
       "</div>"
      ],
      "text/plain": [
       "Age                         0  1-4  15-24  25-34  35-54  5-14   55-74     75+\n",
       "Country                                                                      \n",
       "United States of America   35   19    501   2254  23043    49  118367  206559\n",
       "Mexico                    209  111    926   4534  45906   150  103836   44530\n",
       "Spain                       4    1     24     93   1442     5   12731   60539"
      ]
     },
     "metadata": {},
     "output_type": "display_data"
    }
   ],
   "source": [
    "#Lọc ra các nước bắt đầu có ca tử vong do Covid\n",
    "mask= df['Covid-19']>0\n",
    "\n",
    "#Nhóm các quốc gia theo độ tuổi để tính tổng ca tử vong\n",
    "num_death_covid=df[mask].groupby(['Country','Age'])['Covid-19'].sum()\n",
    "num_death_covid=num_death_covid.reset_index()\n",
    "num_death_covid = num_death_covid.pivot_table(index=\"Country\", columns=\"Age\",values='Covid-19', fill_value=0)\n",
    "num_death_covid['sum_cols'] = num_death_covid.sum(axis=1)\n",
    "num_death_covid = num_death_covid.sort_values('sum_cols' , ascending=False)\n",
    "num_death_covid = num_death_covid.drop(columns='sum_cols').head(3)\n",
    "display(num_death_covid)"
   ]
  },
  {
   "cell_type": "markdown",
   "metadata": {},
   "source": [
    "Code bước 2. "
   ]
  },
  {
   "cell_type": "code",
   "execution_count": 25,
   "metadata": {},
   "outputs": [
    {
     "data": {
      "image/png": "[encoded data removed]",
      "text/plain": [
       "<Figure size 640x480 with 1 Axes>"
      ]
     },
     "metadata": {},
     "output_type": "display_data"
    }
   ],
   "source": [
    "ax = num_death_covid.plot.barh(stacked=True)\n",
    "plt.xlabel('Num_deaths')\n",
    "plt.ylabel('Country')\n",
    "plt.title('Biểu Đồ Top 3 Các Quốc Gia Có Số Ca Tử Vong Do Covid Nhiều Nhất')\n",
    "plt.gca().invert_yaxis()\n",
    "plt.show()"
   ]
  },
  {
   "cell_type": "code",
   "execution_count": null,
   "metadata": {},
   "outputs": [],
   "source": []
  }
 ],
 "metadata": {
  "kernelspec": {
   "display_name": "Python 3 (ipykernel)",
   "language": "python",
   "name": "python3"
  },
  "language_info": {
   "codemirror_mode": {
    "name": "ipython",
    "version": 3
   },
   "file_extension": ".py",
   "mimetype": "text/x-python",
   "name": "python",
   "nbconvert_exporter": "python",
   "pygments_lexer": "ipython3",
   "version": "3.9.12"
  },
  "vscode": {
   "interpreter": {
    "hash": "8f8cf99212f81ad0c4765861267244807ee1c18364846cdce387b28994a977ba"
   }
  }
 },
 "nbformat": 4,
 "nbformat_minor": 2
}
