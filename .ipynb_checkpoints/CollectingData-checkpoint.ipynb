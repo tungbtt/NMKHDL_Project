{
 "cells": [
  {
   "cell_type": "code",
   "execution_count": null,
   "id": "c5f1865b",
   "metadata": {},
   "outputs": [],
   "source": [
    "from selenium import webdriver\n",
    "from selenium.webdriver.common.keys import Keys\n",
    "from selenium.webdriver.common.by import By\n",
    "from selenium.common.exceptions import NoSuchElementException\n",
    "from selenium.webdriver.support.ui import Select\n"
   ]
  },
  {
   "cell_type": "code",
   "execution_count": null,
   "id": "9ecab148",
   "metadata": {},
   "outputs": [],
   "source": [
    "import numpy as np\n",
    "import pandas as pd\n",
    "import time"
   ]
  },
  {
   "cell_type": "code",
   "execution_count": null,
   "id": "f32152e6",
   "metadata": {},
   "outputs": [],
   "source": [
    "chrome_options = webdriver.ChromeOptions()\n",
    "chrome_options.add_argument('--no-sandbox')\n",
    "#chrome_options.add_argument('--headless')  #ẩn\n",
    "chrome_options.add_argument('--disable-gpu')\n",
    "chrome_options.add_argument(\"--disable-extensions\");\n",
    "chrome_options.add_argument('--disable-dev-shm-usage')\n",
    "chrome_options.add_argument(\"--window-size=1920,1080\")\n",
    "driver = webdriver.Chrome(options=chrome_options)"
   ]
  },
  {
   "cell_type": "code",
   "execution_count": null,
   "id": "97ff0f28",
   "metadata": {},
   "outputs": [],
   "source": [
    "url='https://platform.who.int/mortality/themes/theme-details/topics/topic-details/MDB/infectious-and-parasitic-diseases'\n",
    "#sẽ sửa thành 1 list các nguyên nhân\n",
    "# Infectious and parasitic diseases"
   ]
  },
  {
   "cell_type": "code",
   "execution_count": null,
   "id": "2adfd628",
   "metadata": {},
   "outputs": [],
   "source": [
    "driver.get(url)"
   ]
  },
  {
   "cell_type": "code",
   "execution_count": null,
   "id": "fae168fb",
   "metadata": {},
   "outputs": [],
   "source": [
    "#chọn dạng biểu đồ\n",
    "driver.find_element(By.XPATH, '//*[@id=\"visualization_component_4_key\"]').click()"
   ]
  },
  {
   "cell_type": "code",
   "execution_count": null,
   "id": "efb59ff3",
   "metadata": {},
   "outputs": [],
   "source": [
    "#chọn giới tính\n",
    "driver.implicitly_wait(3)\n",
    "select=driver.find_element(By.XPATH, '//*[@id=\"visualization_component_htmlid\"]/div/div[2]/div[1]/div[5]')\n",
    "select = Select(select.find_element(By.CLASS_NAME,'form-control'))"
   ]
  },
  {
   "cell_type": "code",
   "execution_count": null,
   "id": "79d41c7c",
   "metadata": {},
   "outputs": [],
   "source": [
    "#Chọn gt làm nam\n",
    "select.select_by_visible_text('Male')"
   ]
  },
  {
   "cell_type": "code",
   "execution_count": null,
   "id": "849c2133",
   "metadata": {},
   "outputs": [],
   "source": [
    "#chọn nhóm tuổi\n",
    "driver.implicitly_wait(10)\n",
    "select=driver.find_element(By.XPATH, '//*[@id=\"visualization_component_htmlid\"]/div/div[2]/div[1]/div[4]')\n",
    "select = Select(select.find_element(By.CLASS_NAME,'form-control'))\n",
    "select.select_by_visible_text('0')"
   ]
  },
  {
   "cell_type": "code",
   "execution_count": null,
   "id": "0a70b6af",
   "metadata": {},
   "outputs": [],
   "source": [
    "#chọn quốc gia\n",
    "driver.implicitly_wait(30)\n",
    "driver.find_element(By.XPATH, '//*[@id=\"filter_indicatorlinechart_countries7_key\"]/input').click()\n",
    "driver.implicitly_wait(30)\n",
    "driver.find_element(By.XPATH, '//*[@id=\"filter_indicatorlinechart_countries7_key_ul_level1\"]/li[1]/label/input').click()"
   ]
  },
  {
   "cell_type": "code",
   "execution_count": null,
   "id": "12d0078b",
   "metadata": {},
   "outputs": [],
   "source": [
    "#Filter\n",
    "time.sleep(1)\n",
    "driver.find_element(By.XPATH, '//*[@id=\"filters_section_indicatorlinechart_countries_key_filter_button\"]').click()\n",
    "#đợi load\n",
    "time.sleep(2)"
   ]
  },
  {
   "cell_type": "code",
   "execution_count": null,
   "id": "dad57cb7",
   "metadata": {},
   "outputs": [],
   "source": [
    "table_id = driver.find_element(By.ID, 'custom_table')\n",
    "cols = table_id.find_elements(By.TAG_NAME, \"th\")\n"
   ]
  },
  {
   "cell_type": "code",
   "execution_count": null,
   "id": "f261d76b",
   "metadata": {},
   "outputs": [],
   "source": [
    "#lấy số quốc gia\n",
    "country=[]\n",
    "for i in cols:\n",
    "    country.append(i.text)\n",
    "country=country[1:]\n",
    "country"
   ]
  },
  {
   "cell_type": "code",
   "execution_count": null,
   "id": "f716a994",
   "metadata": {},
   "outputs": [],
   "source": [
    "#số dòng - bỏ header, header đã lưu vào biến col\n",
    "rows=table_id.find_elements(By.TAG_NAME, \"tr\")[1:]\n",
    "len(rows)"
   ]
  },
  {
   "cell_type": "code",
   "execution_count": null,
   "id": "c0ed1a5a",
   "metadata": {},
   "outputs": [],
   "source": [
    "#lấy năm\n",
    "#year=[]\n",
    "#for i in range (1,11):\n",
    "#    year.append(driver.find_element(By.XPATH,'//*[@id=\"custom_table_body\"]/tr['+str(i)+']/td[1]').text)\n",
    "#year"
   ]
  },
  {
   "cell_type": "code",
   "execution_count": null,
   "id": "560bad39",
   "metadata": {},
   "outputs": [],
   "source": [
    "driver.find_element(By.XPATH, '//*[@id=\"custom_table_body\"]/tr[1]/td[2]').text"
   ]
  },
  {
   "cell_type": "code",
   "execution_count": null,
   "id": "c7105092",
   "metadata": {},
   "outputs": [],
   "source": [
    "df=pd.DataFrame()\n",
    "for r in rows:\n",
    "    v={}\n",
    "    values=r.find_elements(By.TAG_NAME, \"td\")\n",
    "    v['Year']=values[0].text\n",
    "    v['Sex']='Male'\n",
    "    v['Cause Type']='Communicable, maternal, perinatal and nutritional conditions'\n",
    "    v['Cause Death']='Infectious and parasitic diseases'\n",
    "    for i in range (1,len(values)):\n",
    "        v['Country']=country[i-1]\n",
    "        if values[i].text=='':\n",
    "            v['Number of deaths']=np.nan\n",
    "        else:\n",
    "            v['Number of deaths']=int(values[i].text.replace(' ',''))\n",
    "        print(v)\n",
    "        if df.empty:\n",
    "            df=pd.DataFrame.from_dict(v,orient='index').T\n",
    "        else:\n",
    "            df=pd.concat([df, pd.DataFrame.from_dict(v,orient='index').T])\n",
    "        \n",
    "    \n",
    "    "
   ]
  },
  {
   "cell_type": "code",
   "execution_count": null,
   "id": "2302bcdb",
   "metadata": {},
   "outputs": [],
   "source": [
    "df=df.reset_index()\n",
    "display(df)"
   ]
  },
  {
   "cell_type": "code",
   "execution_count": null,
   "id": "8e504958",
   "metadata": {},
   "outputs": [],
   "source": [
    "driver.find_element(By.XPATH, '//*[@id=\"next_button\"]').click()\n",
    "time.sleep(0.5)\n",
    "table_id = driver.find_element(By.ID, 'custom_table')"
   ]
  },
  {
   "cell_type": "code",
   "execution_count": null,
   "id": "4555e9e5",
   "metadata": {},
   "outputs": [],
   "source": [
    "#lặp lại các bước\n",
    "#số dòng - bỏ header, header đã lưu vào biến col\n",
    "rows=table_id.find_elements(By.TAG_NAME, \"tr\")[1:]\n",
    "\n",
    "for r in rows:\n",
    "    v={}\n",
    "    values=r.find_elements(By.TAG_NAME, \"td\")\n",
    "    v['Year']=values[0].text\n",
    "    v['Sex']='Male'\n",
    "    v['Cause Type']='Communicable, maternal, perinatal and nutritional conditions'\n",
    "    v['Cause Death']='Infectious and parasitic diseases'\n",
    "    for i in range (1,len(values)):\n",
    "        v['Country']=country[i-1]\n",
    "        \n",
    "        # cần tạo 1 cái gì đó để tra xem quốc gia đó thuộc khu vực nào và tạo trường area\n",
    "        if values[i].text=='':\n",
    "            v['Number of deaths']=np.nan\n",
    "        else:\n",
    "            v['Number of deaths']=int(values[i].text.replace(' ',''))\n",
    "        print(v)\n",
    "        if df.empty:\n",
    "            df=pd.DataFrame.from_dict(v,orient='index').T\n",
    "        else:\n",
    "            df=pd.concat([df, pd.DataFrame.from_dict(v,orient='index').T])"
   ]
  },
  {
   "cell_type": "code",
   "execution_count": null,
   "id": "a5860abd",
   "metadata": {},
   "outputs": [],
   "source": [
    "driver.find_element(By.XPATH, '//*[@id=\"next_button\"]').click()\n",
    "time.sleep(0.5)\n",
    "table_id = driver.find_element(By.ID, 'custom_table')"
   ]
  },
  {
   "cell_type": "code",
   "execution_count": null,
   "id": "35a434f5",
   "metadata": {},
   "outputs": [],
   "source": [
    "#lặp lại các bước\n",
    "#số dòng - bỏ header, header đã lưu vào biến col\n",
    "rows=table_id.find_elements(By.TAG_NAME, \"tr\")[1:]\n",
    "\n",
    "for r in rows:\n",
    "    v={}\n",
    "    values=r.find_elements(By.TAG_NAME, \"td\")\n",
    "    v['Year']=values[0].text\n",
    "    v['Sex']='Male'\n",
    "    v['Cause Type']='Communicable, maternal, perinatal and nutritional conditions'\n",
    "    v['Cause Death']='Infectious and parasitic diseases'\n",
    "    for i in range (1,len(values)):\n",
    "        v['Country']=country[i-1]\n",
    "        if values[i].text=='':\n",
    "            v['Number of deaths']=np.nan\n",
    "        else:\n",
    "            v['Number of deaths']=int(values[i].text.replace(' ',''))\n",
    "        print(v)\n",
    "        if df.empty:\n",
    "            df=pd.DataFrame.from_dict(v,orient='index').T\n",
    "        else:\n",
    "            df=pd.concat([df, pd.DataFrame.from_dict(v,orient='index').T])"
   ]
  },
  {
   "cell_type": "code",
   "execution_count": null,
   "id": "cab91144",
   "metadata": {},
   "outputs": [],
   "source": [
    "df "
   ]
  },
  {
   "cell_type": "markdown",
   "id": "3492bbed",
   "metadata": {},
   "source": [
    "# 2373 cho 1 nhóm tuổi của 1 nguyên nhân 1 giới tính :) 2373x8x32x3=1,822,464\n",
    "Số vòng for cần chạy:\n",
    "\n",
    "- For nguyên nhân\n",
    "\n",
    "- For nhóm tuổi\n",
    "\n",
    "- for giới tính\n",
    "\n",
    "    CODE ở trên và truyền tham số lại"
   ]
  },
  {
   "cell_type": "code",
   "execution_count": null,
   "id": "49d37a4f",
   "metadata": {},
   "outputs": [],
   "source": []
  }
 ],
 "metadata": {
  "kernelspec": {
   "display_name": "Python 3",
   "language": "python",
   "name": "python3"
  },
  "language_info": {
   "codemirror_mode": {
    "name": "ipython",
    "version": 3
   },
   "file_extension": ".py",
   "mimetype": "text/x-python",
   "name": "python",
   "nbconvert_exporter": "python",
   "pygments_lexer": "ipython3",
   "version": "3.9.12"
  }
 },
 "nbformat": 4,
 "nbformat_minor": 5
}
