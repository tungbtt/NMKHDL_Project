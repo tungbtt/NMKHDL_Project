{
 "cells": [
  {
   "cell_type": "markdown",
   "id": "5dbe6324",
   "metadata": {},
   "source": [
    "# Đồ án cuối kì - Nhập môn khoa học dữ liệu\n",
    "### Nhóm: 16"
   ]
  },
  {
   "cell_type": "markdown",
   "id": "64e2f072",
   "metadata": {},
   "source": [
    "**Thêm các thư viện cần thiết**"
   ]
  },
  {
   "cell_type": "code",
   "execution_count": null,
   "id": "b7b6267f",
   "metadata": {},
   "outputs": [],
   "source": [
    "from selenium import webdriver\n",
    "from time import sleep\n",
    "from webdriver_manager.chrome import ChromeDriverManager\n",
    "from selenium.webdriver.chrome.options import Options\n",
    "from selenium.webdriver.common.by import By\n",
    "import pandas as pd"
   ]
  },
  {
   "cell_type": "markdown",
   "id": "0d75324a",
   "metadata": {},
   "source": [
    "**Các trường dữ liệu bệnh sẽ lấy**\n",
    "\n",
    "Để dễ dàng hơn cho việc thu thập dữ liệu, chúng em tổng hợp sẵn những link cần lấy dữ liệu đưa vào dictionary.\n",
    "\n",
    "Chúng em chọn ra những nguyên nhân sau:\n",
    "- HIV/AIDS\n",
    "- Malaria\n",
    "- Tuberculosis\n",
    "- Dengue\n",
    "- Covid-19\n",
    "- Brain and nervous system cancers\n",
    "- Leukaemia\n",
    "- Road traffic accidents\n",
    "- Fires\n",
    "- Drownings\n",
    "- Natural disasters\n",
    "- Self-inflicted injuries\n",
    "- Violence\n",
    "- War"
   ]
  },
  {
   "cell_type": "code",
   "execution_count": null,
   "id": "fe9c5dd9",
   "metadata": {},
   "outputs": [],
   "source": [
    "cause_of_death_url = {\n",
    "    'HIV/AIDS': 'https://platform.who.int/mortality/themes/theme-details/topics/indicator-groups/indicator-group-details/MDB/hiv-aids',\n",
    "    'Malaria': 'https://platform.who.int/mortality/themes/theme-details/topics/indicator-groups/indicator-group-details/MDB/malaria',\n",
    "    'Tuberculosis': 'https://platform.who.int/mortality/themes/theme-details/topics/indicator-groups/indicator-group-details/MDB/tuberculosis',\n",
    "    'Dengue': 'https://platform.who.int/mortality/themes/theme-details/topics/indicator-groups/indicator-group-details/MDB/dengue',\n",
    "    'Covid-19': 'https://platform.who.int/mortality/themes/theme-details/topics/indicator-groups/indicator-group-details/MDB/covid-19',\n",
    "    'Brain and nervous system cancers': 'https://platform.who.int/mortality/themes/theme-details/topics/indicator-groups/indicator-group-details/MDB/brain-and-nervous-system-cancers',\n",
    "    'Leukaemia': 'https://platform.who.int/mortality/themes/theme-details/topics/indicator-groups/indicator-group-details/MDB/leukaemia',\n",
    "    'Road traffic accidents': 'https://platform.who.int/mortality/themes/theme-details/topics/indicator-groups/indicator-group-details/MDB/road-traffic-accidents',\n",
    "    'Fires': 'https://platform.who.int/mortality/themes/theme-details/topics/indicator-groups/indicator-group-details/MDB/fires',\n",
    "    'Drownings': 'https://platform.who.int/mortality/themes/theme-details/topics/indicator-groups/indicator-group-details/MDB/drownings',\n",
    "    'Natural disasters': 'https://platform.who.int/mortality/themes/theme-details/topics/indicator-groups/indicator-group-details/MDB/natural-disasters',\n",
    "    'Self-inflicted injuries': 'https://platform.who.int/mortality/themes/theme-details/topics/indicator-groups/indicator-group-details/MDB/self-inflicted-injuries',\n",
    "    'Violence': 'https://platform.who.int/mortality/themes/theme-details/topics/indicator-groups/indicator-group-details/MDB/violence',\n",
    "    'War': 'https://platform.who.int/mortality/themes/theme-details/topics/indicator-groups/indicator-group-details/MDB/war'\n",
    "}"
   ]
  },
  {
   "cell_type": "markdown",
   "id": "9e13537d",
   "metadata": {},
   "source": [
    "**Tạo file csv để lưu dữ liệu**"
   ]
  },
  {
   "cell_type": "code",
   "execution_count": null,
   "id": "db16006f",
   "metadata": {},
   "outputs": [],
   "source": [
    "# tạo trước file data.csv, data của mỗi cause sẽ được lưu lần lượt vào file này\n",
    "pd.DataFrame({\n",
    "    \"Cause of death\": [],\n",
    "    \"Age\": [],\n",
    "    \"Year\": [],\n",
    "    \"Country\": [],\n",
    "    \"Number of deaths\": []\n",
    "}).to_csv(r'data.csv', index = None, header=True)"
   ]
  },
  {
   "cell_type": "markdown",
   "id": "2d032c12",
   "metadata": {},
   "source": [
    "**Crawl dữ liệu từ web**"
   ]
  },
  {
   "cell_type": "code",
   "execution_count": null,
   "id": "c4fede00",
   "metadata": {
    "scrolled": false
   },
   "outputs": [],
   "source": [
    "for cause in cause_of_death_url:\n",
    "    # cài đặt và khởi động Chrome\n",
    "    driver = webdriver.Chrome(ChromeDriverManager().install())\n",
    "    \n",
    "    print(cause)\n",
    "\n",
    "    cause_of_death, age, year, country, number_of_deaths = [], [], [], [], []\n",
    "\n",
    "    # mở page\n",
    "    driver.get(cause_of_death_url[cause])\n",
    "    \n",
    "    # click để chọn biểu đồ\n",
    "    driver.find_element(By.ID, 'visualization_component_4_key').click()\n",
    "    sleep(3)\n",
    "    \n",
    "    # click để bỏ chọn năm 2021\n",
    "    driver.find_element(By.ID, '2021').click()\n",
    "    \n",
    "    # chọn all quốc gia\n",
    "    driver.find_element(By.XPATH, \"/html/body/div[2]/section/div[3]/div/div[2]/div/div[2]/div[2]/div/div[3]/div/div[2]/div[1]/div[3]/div/div/input\").click()\n",
    "    driver.find_element(By.XPATH, \"/html/body/div[2]/section/div[3]/div/div[2]/div/div[2]/div[2]/div/div[3]/div/div[2]/div[1]/div[3]/div/div/div[2]/ul/li[1]/label/input\").click()\n",
    "    \n",
    "    # chọn giới tính (ALL)\n",
    "    # driver.find_element(By.ID, 'filter_indicatorlinechart_countries5_key').click()\n",
    "    # driver.find_element(By.XPATH, \"/html/body/div[2]/section/div[3]/div/div[2]/div/div[2]/div[2]/div/div[3]/div/div[2]/div[1]/div[5]/div/div/select/option[1]\").click()\n",
    "    \n",
    "    # tìm nhóm tuổi\n",
    "    driver.find_element(By.ID, 'filter_indicatorlinechart_countries8_key').click()\n",
    "    ages_html = driver.find_elements(By.XPATH, '/html/body/div[2]/section/div[3]/div/div[2]/div/div[2]/div[2]/div/div[3]/div/div[2]/div[1]/div[4]/div/div/select/option')\n",
    "\n",
    "    for age_html in ages_html[1:-1]:\n",
    "        # click để chọn nhóm tuổi\n",
    "        age_html.click()\n",
    "    \n",
    "        # chọn áp dụng bộ lọc\n",
    "        driver.find_element(By.ID, 'filters_section_indicatorlinechart_countries_key_filter_button').click()\n",
    "        # chờ để loading page\n",
    "        sleep(10)\n",
    "    \n",
    "        # lấy data\n",
    "        # ------------------------\n",
    "        while(True):\n",
    "            table_html = driver.find_element(By.ID, 'custom_table')\n",
    "            # lấy tên cột\n",
    "            cols_name_html = table_html.find_elements(By.TAG_NAME, \"th\")\n",
    "            cols_name = [col.text for col in cols_name_html[1:]]\n",
    "            # lấy dòng\n",
    "            rows_html = table_html.find_elements(By.XPATH, \"/html/body/div[2]/section/div[3]/div/div[2]/div/div[2]/div[2]/div/div[3]/div/div[2]/div[2]/div[3]/div[1]/table/tbody/tr\")\n",
    "    \n",
    "            for row_html in rows_html:\n",
    "                values_html = row_html.find_elements(By.TAG_NAME, \"td\")\n",
    "                for value_html in values_html[1:]:\n",
    "                    number_of_deaths.append(value_html.text)\n",
    "                year += [values_html[0].text] * len(cols_name)\n",
    "            \n",
    "            country += cols_name * len(rows_html)\n",
    "            age += [age_html.text] * len(rows_html) * len(cols_name)\n",
    "            cause_of_death += [cause] * len(rows_html) * len(cols_name)\n",
    "    \n",
    "            try:\n",
    "                # click để qua trang\n",
    "                driver.find_element(By.ID, 'next_button').click()\n",
    "            except:\n",
    "                break\n",
    "        # ------------------------\n",
    "    \n",
    "    # lưu data vừa lấy vào file data.csv\n",
    "    df = pd.DataFrame({\n",
    "        \"Cause of death\": cause_of_death,\n",
    "        \"Age\": age,\n",
    "        \"Year\": year,\n",
    "        \"Country\": country,\n",
    "        \"Number of deaths\": number_of_deaths \n",
    "    })\n",
    "    df.to_csv(r'data.csv', index = None, header = False, mode = 'a')\n",
    "\n",
    "    # đóng Chrome\n",
    "    driver.quit()"
   ]
  }
 ],
 "metadata": {
  "kernelspec": {
   "display_name": "Python 3",
   "language": "python",
   "name": "python3"
  },
  "language_info": {
   "codemirror_mode": {
    "name": "ipython",
    "version": 3
   },
   "file_extension": ".py",
   "mimetype": "text/x-python",
   "name": "python",
   "nbconvert_exporter": "python",
   "pygments_lexer": "ipython3",
   "version": "3.9.12"
  }
 },
 "nbformat": 4,
 "nbformat_minor": 5
}
